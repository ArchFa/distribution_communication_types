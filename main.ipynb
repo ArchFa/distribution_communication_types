{
 "cells": [
  {
   "cell_type": "code",
   "execution_count": 1,
   "metadata": {},
   "outputs": [],
   "source": [
    "import pandas as pd\n",
    "import streamlit as st\n",
    "from collections import Counter\n",
    "from PIL import Image"
   ]
  },
  {
   "cell_type": "code",
   "execution_count": 3,
   "metadata": {},
   "outputs": [],
   "source": [
    "im = Image.open(\"./logo_ugry.png\")\n",
    "st.set_page_config(page_title=\"Распределение типов связи\", page_icon=im)"
   ]
  },
  {
   "cell_type": "code",
   "execution_count": 4,
   "metadata": {},
   "outputs": [
    {
     "name": "stderr",
     "output_type": "stream",
     "text": [
      "2022-04-25 16:41:54.503 \n",
      "  \u001b[33m\u001b[1mWarning:\u001b[0m to view this Streamlit app on a browser, run it with the following\n",
      "  command:\n",
      "\n",
      "    streamlit run /Users/arturfattahov/Library/Python/3.10/lib/python/site-packages/ipykernel_launcher.py [ARGUMENTS]\n"
     ]
    },
    {
     "ename": "StopException",
     "evalue": "",
     "output_type": "error",
     "traceback": [
      "\u001b[0;31m---------------------------------------------------------------------------\u001b[0m",
      "\u001b[0;31mStopException\u001b[0m                             Traceback (most recent call last)",
      "\u001b[1;32m/Users/arturfattahov/distribution_communication_types/main.ipynb Cell 3'\u001b[0m in \u001b[0;36m<module>\u001b[0;34m\u001b[0m\n\u001b[1;32m     <a href='vscode-notebook-cell:/Users/arturfattahov/distribution_communication_types/main.ipynb#ch0000002?line=31'>32</a>\u001b[0m \u001b[39melse\u001b[39;00m:\n\u001b[1;32m     <a href='vscode-notebook-cell:/Users/arturfattahov/distribution_communication_types/main.ipynb#ch0000002?line=32'>33</a>\u001b[0m     st\u001b[39m.\u001b[39minfo(\n\u001b[1;32m     <a href='vscode-notebook-cell:/Users/arturfattahov/distribution_communication_types/main.ipynb#ch0000002?line=33'>34</a>\u001b[0m         \u001b[39mf\u001b[39m\u001b[39m\"\"\"\u001b[39m\n\u001b[1;32m     <a href='vscode-notebook-cell:/Users/arturfattahov/distribution_communication_types/main.ipynb#ch0000002?line=34'>35</a>\u001b[0m \u001b[39m             👆 Загрузите файл с расширением csv. В файле должны стого содержаться следующие столбцы:\u001b[39m\n\u001b[0;32m   (...)\u001b[0m\n\u001b[1;32m     <a href='vscode-notebook-cell:/Users/arturfattahov/distribution_communication_types/main.ipynb#ch0000002?line=40'>41</a>\u001b[0m \u001b[39m             \u001b[39m\u001b[39m\"\"\"\u001b[39m\n\u001b[1;32m     <a href='vscode-notebook-cell:/Users/arturfattahov/distribution_communication_types/main.ipynb#ch0000002?line=41'>42</a>\u001b[0m     )\n\u001b[0;32m---> <a href='vscode-notebook-cell:/Users/arturfattahov/distribution_communication_types/main.ipynb#ch0000002?line=42'>43</a>\u001b[0m     st\u001b[39m.\u001b[39;49mstop()\n",
      "File \u001b[0;32m/Library/Frameworks/Python.framework/Versions/3.10/lib/python3.10/site-packages/streamlit/__init__.py:492\u001b[0m, in \u001b[0;36mstop\u001b[0;34m()\u001b[0m\n\u001b[1;32m    <a href='file:///Library/Frameworks/Python.framework/Versions/3.10/lib/python3.10/site-packages/streamlit/__init__.py?line=474'>475</a>\u001b[0m \u001b[39mdef\u001b[39;00m \u001b[39mstop\u001b[39m() \u001b[39m-\u001b[39m\u001b[39m>\u001b[39m NoReturn:\n\u001b[1;32m    <a href='file:///Library/Frameworks/Python.framework/Versions/3.10/lib/python3.10/site-packages/streamlit/__init__.py?line=475'>476</a>\u001b[0m     \u001b[39m\"\"\"Stops execution immediately.\u001b[39;00m\n\u001b[1;32m    <a href='file:///Library/Frameworks/Python.framework/Versions/3.10/lib/python3.10/site-packages/streamlit/__init__.py?line=476'>477</a>\u001b[0m \n\u001b[1;32m    <a href='file:///Library/Frameworks/Python.framework/Versions/3.10/lib/python3.10/site-packages/streamlit/__init__.py?line=477'>478</a>\u001b[0m \u001b[39m    Streamlit will not run any statements after `st.stop()`.\u001b[39;00m\n\u001b[0;32m   (...)\u001b[0m\n\u001b[1;32m    <a href='file:///Library/Frameworks/Python.framework/Versions/3.10/lib/python3.10/site-packages/streamlit/__init__.py?line=489'>490</a>\u001b[0m \n\u001b[1;32m    <a href='file:///Library/Frameworks/Python.framework/Versions/3.10/lib/python3.10/site-packages/streamlit/__init__.py?line=490'>491</a>\u001b[0m \u001b[39m    \"\"\"\u001b[39;00m\n\u001b[0;32m--> <a href='file:///Library/Frameworks/Python.framework/Versions/3.10/lib/python3.10/site-packages/streamlit/__init__.py?line=491'>492</a>\u001b[0m     \u001b[39mraise\u001b[39;00m StopException()\n",
      "\u001b[0;31mStopException\u001b[0m: "
     ]
    }
   ],
   "source": [
    "st.title(\"Распределение типов связи\")\n",
    "st.write(\"Выбранные типы связи для задач. Датафрейм был отфильтрован, учитываются только следующие платформы: iOS, Android\")\n",
    "\n",
    "\n",
    "uploaded_file = st.file_uploader(\"Выбирете файл\")\n",
    "\n",
    "\n",
    "if uploaded_file is not None:\n",
    "     df = pd.read_csv(uploaded_file, sep='|')\n",
    "     df.columns = ['offer_id', 'platform', 'communication_type']\n",
    "\n",
    "     df = df.query('platform != \" admins   \"')\n",
    "     df = df.query('platform != \"          \"')\n",
    "     df = df.query('platform != \" web      \"')\n",
    "     df = df.query('platform != \" whatsapp \"')\n",
    "\n",
    "     # удаление пропусков, которые появляются из за особенностей выгрузки\n",
    "     df = df.dropna()\n",
    "\n",
    "     file_container = st.expander(\"Check your uploaded .csv\")   \n",
    "     st.write(df)\n",
    "else:\n",
    "    st.info(\n",
    "        f\"\"\"\n",
    "             👆 Загрузите файл с расширением csv. В файле должны стого содержаться следующие столбцы:\n",
    "             - id оффера\n",
    "             - платформа\n",
    "             - тип связи\n",
    "             \"\"\"\n",
    "    )\n",
    "    st.stop()"
   ]
  },
  {
   "cell_type": "code",
   "execution_count": 6,
   "metadata": {},
   "outputs": [
    {
     "ename": "NameError",
     "evalue": "name 'df' is not defined",
     "output_type": "error",
     "traceback": [
      "\u001b[0;31m---------------------------------------------------------------------------\u001b[0m",
      "\u001b[0;31mNameError\u001b[0m                                 Traceback (most recent call last)",
      "\u001b[1;32m/Users/arturfattahov/distribution_communication_types/main.ipynb Cell 4'\u001b[0m in \u001b[0;36m<module>\u001b[0;34m\u001b[0m\n\u001b[0;32m----> <a href='vscode-notebook-cell:/Users/arturfattahov/distribution_communication_types/main.ipynb#ch0000005?line=0'>1</a>\u001b[0m all_task \u001b[39m=\u001b[39m df[\u001b[39m'\u001b[39m\u001b[39moffer_id\u001b[39m\u001b[39m'\u001b[39m]\u001b[39m.\u001b[39mnunique()\n\u001b[1;32m      <a href='vscode-notebook-cell:/Users/arturfattahov/distribution_communication_types/main.ipynb#ch0000005?line=1'>2</a>\u001b[0m st\u001b[39m.\u001b[39mwrite(\u001b[39m'\u001b[39m\u001b[39mВсего задач:\u001b[39m\u001b[39m'\u001b[39m, all_task)\n",
      "\u001b[0;31mNameError\u001b[0m: name 'df' is not defined"
     ]
    }
   ],
   "source": [
    "all_task = df['offer_id'].nunique()\n",
    "st.write('Всего задач:', all_task)"
   ]
  },
  {
   "cell_type": "code",
   "execution_count": 8,
   "metadata": {},
   "outputs": [
    {
     "ename": "NameError",
     "evalue": "name 'df' is not defined",
     "output_type": "error",
     "traceback": [
      "\u001b[0;31m---------------------------------------------------------------------------\u001b[0m",
      "\u001b[0;31mNameError\u001b[0m                                 Traceback (most recent call last)",
      "\u001b[1;32m/Users/arturfattahov/distribution_communication_types/main.ipynb Cell 5'\u001b[0m in \u001b[0;36m<module>\u001b[0;34m\u001b[0m\n\u001b[0;32m----> <a href='vscode-notebook-cell:/Users/arturfattahov/distribution_communication_types/main.ipynb#ch0000003?line=0'>1</a>\u001b[0m by_phone \u001b[39m=\u001b[39m df\u001b[39m.\u001b[39mquery(\u001b[39m'\u001b[39m\u001b[39mcommunication_type == \u001b[39m\u001b[39m\"\u001b[39m\u001b[39m by_phone\u001b[39m\u001b[39m\"\u001b[39m\u001b[39m'\u001b[39m)\u001b[39m.\u001b[39mcount()[\u001b[39m0\u001b[39m]\n\u001b[1;32m      <a href='vscode-notebook-cell:/Users/arturfattahov/distribution_communication_types/main.ipynb#ch0000003?line=1'>2</a>\u001b[0m st\u001b[39m.\u001b[39mwrite(\u001b[39m'\u001b[39m\u001b[39mКоличество задач с типом связи \u001b[39m\u001b[39m\"\u001b[39m\u001b[39mby_phone\u001b[39m\u001b[39m\"\u001b[39m\u001b[39m'\u001b[39m, by_phone)\n\u001b[1;32m      <a href='vscode-notebook-cell:/Users/arturfattahov/distribution_communication_types/main.ipynb#ch0000003?line=4'>5</a>\u001b[0m st\u001b[39m.\u001b[39mwrite(\u001b[39m'\u001b[39m\u001b[39mПроцент пользователей, которые создавали задачу через телефон \u001b[39m\u001b[39m{:.0f}\u001b[39;00m\u001b[39m%\u001b[39m\u001b[39m'\u001b[39m\n\u001b[1;32m      <a href='vscode-notebook-cell:/Users/arturfattahov/distribution_communication_types/main.ipynb#ch0000003?line=5'>6</a>\u001b[0m         \u001b[39m.\u001b[39mformat(by_phone \u001b[39m*\u001b[39m \u001b[39m100\u001b[39m \u001b[39m/\u001b[39m all_task))\n",
      "\u001b[0;31mNameError\u001b[0m: name 'df' is not defined"
     ]
    }
   ],
   "source": [
    "by_phone = df.query('communication_type == \" by_phone\"').count()[0]\n",
    "st.write('Количество задач с типом связи \"by_phone\"', by_phone)\n",
    "\n",
    "\n",
    "st.write('Процент пользователей, которые создавали задачу через телефон {:.0f}%'\n",
    "        .format(by_phone * 100 / all_task))"
   ]
  },
  {
   "cell_type": "code",
   "execution_count": 7,
   "metadata": {},
   "outputs": [
    {
     "ename": "NameError",
     "evalue": "name 'df' is not defined",
     "output_type": "error",
     "traceback": [
      "\u001b[0;31m---------------------------------------------------------------------------\u001b[0m",
      "\u001b[0;31mNameError\u001b[0m                                 Traceback (most recent call last)",
      "\u001b[1;32m/Users/arturfattahov/distribution_communication_types/main.ipynb Cell 6'\u001b[0m in \u001b[0;36m<module>\u001b[0;34m\u001b[0m\n\u001b[0;32m----> <a href='vscode-notebook-cell:/Users/arturfattahov/distribution_communication_types/main.ipynb#ch0000004?line=0'>1</a>\u001b[0m in_app \u001b[39m=\u001b[39m df\u001b[39m.\u001b[39mquery(\u001b[39m'\u001b[39m\u001b[39mcommunication_type == \u001b[39m\u001b[39m\"\u001b[39m\u001b[39m in_app\u001b[39m\u001b[39m\"\u001b[39m\u001b[39m'\u001b[39m)\u001b[39m.\u001b[39mcount()[\u001b[39m0\u001b[39m]\n\u001b[1;32m      <a href='vscode-notebook-cell:/Users/arturfattahov/distribution_communication_types/main.ipynb#ch0000004?line=1'>2</a>\u001b[0m st\u001b[39m.\u001b[39mwrite(\u001b[39m'\u001b[39m\u001b[39mКоличество задач с типом связи \u001b[39m\u001b[39m\"\u001b[39m\u001b[39mby_phone\u001b[39m\u001b[39m\"\u001b[39m\u001b[39m'\u001b[39m, in_app)\n",
      "\u001b[0;31mNameError\u001b[0m: name 'df' is not defined"
     ]
    }
   ],
   "source": [
    "in_app = df.query('communication_type == \" in_app\"').count()[0]\n",
    "st.write('Количество задач с типом связи \"by_phone\"', in_app)\n",
    "\n",
    "st.write('Процент пользователей, которые создавали задачу через приложение {:.0f}%'\n",
    "        .format(in_app * 100 / all_task))"
   ]
  }
 ],
 "metadata": {
  "interpreter": {
   "hash": "aee8b7b246df8f9039afb4144a1f6fd8d2ca17a180786b69acc140d282b71a49"
  },
  "kernelspec": {
   "display_name": "Python 3.10.4 64-bit",
   "language": "python",
   "name": "python3"
  },
  "language_info": {
   "codemirror_mode": {
    "name": "ipython",
    "version": 3
   },
   "file_extension": ".py",
   "mimetype": "text/x-python",
   "name": "python",
   "nbconvert_exporter": "python",
   "pygments_lexer": "ipython3",
   "version": "3.10.4"
  },
  "orig_nbformat": 4
 },
 "nbformat": 4,
 "nbformat_minor": 2
}
